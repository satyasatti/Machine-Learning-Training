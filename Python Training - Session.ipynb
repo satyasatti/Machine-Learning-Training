{
 "cells": [
  {
   "cell_type": "markdown",
   "metadata": {},
   "source": [
    "# 1. Introduction"
   ]
  },
  {
   "cell_type": "markdown",
   "metadata": {},
   "source": [
    "## What is Python?\n",
    "\n",
    "Python is an incredibly powerful high-level, general-purpose programming language built in 1989. It is free and open source. Here is a look at some of the most famous applications of Python:\n",
    "\n",
    "![trend](https://qph.fs.quoracdn.net/main-qimg-5b7953f673dc0823b3e09179a7804109)\n",
    "\n",
    "Python is a full fledged programming language that is mostly object oriented but can used in powerful and efficient ways without OOP. It is used in multiple applications including (but not limited to)\n",
    "1. Web Development \n",
    "2. Database access \n",
    "3. Scientific and Numeric computing \n",
    "4. Game Development \n"
   ]
  },
  {
   "cell_type": "markdown",
   "metadata": {},
   "source": [
    "## Python for Data Science\n",
    "When it comes to data science, Python is a very powerful tool, which is also open sourced and flexible, adding more to its popularity. It is known to have massive libraries for manipulation of data and is extremely easy to learn and use for all forms of data analysis. \n",
    "\n",
    "Post 2016, Python has overtaken R, and is the leader in Data Science, Machine Learning platforms\n",
    "![trend](https://www.kdnuggets.com/images/google-trends-python-r-data-science-machine-learning-2012-2017.jpg) \n",
    "\n",
    "\n",
    "\n",
    "#### Kaggle 2016 Year Summary\n",
    "In past years, R was the language of choice on Kaggle, but 2016 has seen Python emerge as a clear winner when it came to the number of kernels written. \n",
    "![classification](https://www.kdnuggets.com/images/kaggle-python-vs-r-kernels-2016.jpg)\n",
    "\n",
    "Python for Data Science has developed rapidly and is now the preferred language of choice for Data Scientists (along with R) the world over because of \n",
    "1. The package system\n",
    "2. The libraries developed for Machine Learning \n",
    "3. Ability to do other tasks apart from Data Science and the convenience in Integration\n",
    "4. Of course - Open Source"
   ]
  },
  {
   "cell_type": "markdown",
   "metadata": {},
   "source": [
    "## Python vs R vs SAS\n",
    "\n",
    "#### SAS: \n",
    "SAS has been the undisputed market leader in commercial analytics space. The software offers huge array of statistical functions, has good GUI (Enterprise Guide & Miner) for people to learn quickly and provides awesome technical support. However, it ends up being the most expensive option and is not always enriched with latest statistical functions.\n",
    "\n",
    "#### R:\n",
    "R is the Open source counterpart of SAS, which has traditionally been used in academics and research. Because of its open source nature, latest techniques get released quickly. There is a lot of documentation available over the internet and it is a very cost-effective option.\n",
    "\n",
    "#### Python: \n",
    "With it origin as an open source scripting language, Python usage has grown over time. Today, it has libraries (numpy, scipy, matplotlib, etc.) and functions for almost any statistical operation / model building you may want to do. Since introduction of pandas, it has become very strong in operations on structured data."
   ]
  },
  {
   "cell_type": "markdown",
   "metadata": {},
   "source": [
    "## Python 2 vs Python 3\n",
    "\n",
    "#### Python 3\n",
    "Python 3 is regarded as the future of Python and is the version of the language that is currently in development. A major overhaul, Python 3 was released in late 2008 to address and amend intrinsic design flaws of previous versions of the language. The focus of Python 3 development was to clean up the codebase and remove redundancy, making it clear that there was only one way to perform a given task.\n",
    "\n",
    "Major modifications to Python 3.0 included changing the print statement into a built-in function, improve the way integers are divided, and providing more Unicode support.\n",
    "\n",
    "At first, Python 3 was slowly adopted due to the language not being backwards compatible with Python 2, requiring people to make a decision as to which version of the language to use. Additionally, many package libraries were only available for Python 2, but as the development team behind Python 3 has reiterated that there is an end of life for Python 2 support, more libraries have been ported to Python 3. The increased adoption of Python 3 can be shown by the number of Python packages that now provide Python 3 support, which at the time of writing includes 339 of the 360 most popular Python packages.\n",
    "\n",
    "#### Python 2.7\n",
    "Following the 2008 release of Python 3.0, Python 2.7 was published on July 3, 2010 and planned as the last of the 2.x releases. The intention behind Python 2.7 was to make it easier for Python 2.x users to port features over to Python 3 by providing some measure of compatibility between the two. This compatibility support included enhanced modules for version 2.7 like unittest to support test automation, argparse for parsing command-line options, and more convenient classes in collections.\n",
    "\n",
    "Because of Python 2.7’s unique position as a version in between the earlier iterations of Python 2 and Python 3.0, it has persisted as a very popular choice for programmers due to its compatibility with many robust libraries. When we talk about Python 2 today, we are typically referring to the Python 2.7 release as that is the most frequently used version.\n",
    "\n",
    "Python 2.7, however, is considered to be a legacy language and its continued development, which today mostly consists of bug fixes, will cease completely in 2020."
   ]
  },
  {
   "cell_type": "markdown",
   "metadata": {},
   "source": [
    "# 2. Getting Started"
   ]
  },
  {
   "cell_type": "markdown",
   "metadata": {},
   "source": [
    "## Package Managers\n",
    "\n",
    "#### Pip\n",
    "Pip is python’s package manager. It has come built-in to Python for quite a while now, so if you have Python, you likely have pip installed already.\n",
    "\n",
    "**pip install library_name**"
   ]
  },
  {
   "cell_type": "code",
   "execution_count": null,
   "metadata": {},
   "outputs": [],
   "source": [
    "!pip install math"
   ]
  },
  {
   "cell_type": "markdown",
   "metadata": {},
   "source": [
    "There are currently two popular options for taking care of managing your different pip packages:\n",
    "* virtualenv \n",
    "* anaconda\n",
    "\n",
    "### Virtualenv\n",
    "Virtualenv is a package that allows you to create named “virtual environments”, where you can install pip packages in an isolated manner.\n",
    "\n",
    "### Anaconda\n",
    "Now, if you are primarily doing data science work, Anaconda is also a great option. It is a Python distribution that comes preinstalled with lots of useful python libraries for data science.\n",
    "\n",
    "Anaconda is popular because it brings many of the tools used in data science and machine learning with just one install, so it’s great for having short and simple setup.\n",
    "\n",
    "Like Virtualenv, Anaconda also uses the concept of creating environments so as to isolate different libraries and versions. Anaconda also introduces its own package manager, called conda, from where you can install libraries.\n",
    "\n",
    "Additionally, Anaconda still has the useful interaction with pip that allows you to install any additional libraries which are not available in the Anaconda package manager.\n",
    "\n",
    "### pyenv\n",
    "We can opt to use both, and manage the whole thing using a library called *pyenv*. Conceptually, pyenv sits atop both virtualenv and anaconda, and it can be used to control not only which virtualenv environment or anaconda environment is in use, but it also easily controls whether you are running Python 2 or Python 3.\n",
    "\n",
    "Another aspect of pyenv that is the ability to set a default environment for a given directory. This causes the desired environment to be automatically activated when you enter a directory. This a lot easier than trying to remember which environment you want to use every time you work on a project.\n"
   ]
  },
  {
   "cell_type": "markdown",
   "metadata": {},
   "source": [
    "## Importing modules and packages in Python\n",
    "\n",
    "There are a number of modules that are built into the Python Standard Library, which contains many modules that provide access to system functionality or provide standardized solutions. The Python Standard Library is part of every Python installation.\n",
    "\n",
    "From within the interpreter you can run the import statement to make sure that the given module is ready to be called. For example:\n",
    "\n",
    "**import math**\n",
    "\n",
    "Since math is a built-in module, your interpreter should complete the task with no feedback, returning to the prompt. This means you don’t need to do anything to start using the *math* module.\n",
    "\n",
    "If a required module is not installed, you’ll receive an error like this:\n",
    "\n",
    "**ImportError: No module named 'matplotlib'**\n",
    "\n",
    "In such a case, we can use pip to install the required module.\n"
   ]
  },
  {
   "cell_type": "code",
   "execution_count": null,
   "metadata": {},
   "outputs": [],
   "source": [
    "import math"
   ]
  },
  {
   "cell_type": "markdown",
   "metadata": {},
   "source": [
    "#### Aliasing Modules\n",
    "It is possible to modify the names of modules and their functions within Python by using the as keyword.\n",
    "The construction of this statement looks like this:\n",
    "\n",
    "**import [module] as [another_name]**"
   ]
  },
  {
   "cell_type": "code",
   "execution_count": null,
   "metadata": {},
   "outputs": [],
   "source": [
    "import math as m\n",
    "\n",
    "print(m.pi)\n",
    "print(m.e)"
   ]
  },
  {
   "cell_type": "code",
   "execution_count": null,
   "metadata": {},
   "outputs": [],
   "source": [
    "dir(math)"
   ]
  },
  {
   "cell_type": "markdown",
   "metadata": {},
   "source": [
    "# 3. Basic data types and operations in Python"
   ]
  },
  {
   "cell_type": "code",
   "execution_count": null,
   "metadata": {},
   "outputs": [],
   "source": [
    "#Enables multiple outputs from each cell \n",
    "from IPython.core.interactiveshell import InteractiveShell\n",
    "InteractiveShell.ast_node_interactivity = \"all\""
   ]
  },
  {
   "cell_type": "code",
   "execution_count": null,
   "metadata": {},
   "outputs": [],
   "source": [
    "#The most basic use of Python is that it can be used as a calculator\n",
    "2+5"
   ]
  },
  {
   "cell_type": "code",
   "execution_count": null,
   "metadata": {},
   "outputs": [],
   "source": [
    "40-5*6"
   ]
  },
  {
   "cell_type": "code",
   "execution_count": null,
   "metadata": {},
   "outputs": [],
   "source": [
    "# Divison always returns a floating point number in Python 3\n",
    "8/5"
   ]
  },
  {
   "cell_type": "code",
   "execution_count": null,
   "metadata": {},
   "outputs": [],
   "source": [
    "17.0 / 3  # classic division returns a float or integer (depending on the version of Python used)\n",
    "17 // 3  # floor division discards the fractional part\n",
    "17 % 3  # the % operator returns the remainder of the division\n",
    "5 * 3 + 2  # result * divisor + remainder\n",
    "2 ** 7  # 2 to the power of 7\n",
    "4 * 3.75 - 1 # Integers are converted to floating point (when mixed operands)"
   ]
  },
  {
   "cell_type": "markdown",
   "metadata": {},
   "source": [
    "## Data Types - Numeric - Integer, Floating point decimals and complex number\n",
    "\n"
   ]
  },
  {
   "cell_type": "code",
   "execution_count": null,
   "metadata": {},
   "outputs": [],
   "source": [
    "#Variable assignment\n",
    "a=10\n",
    "b=74.92\n",
    "\n",
    "print(a)\n",
    "print(b)"
   ]
  },
  {
   "cell_type": "code",
   "execution_count": null,
   "metadata": {},
   "outputs": [],
   "source": [
    "type(a)\n",
    "type(b)"
   ]
  },
  {
   "cell_type": "code",
   "execution_count": null,
   "metadata": {},
   "outputs": [],
   "source": [
    "#Change a number to a string\n",
    "b_string=str(b)\n",
    "print(b_string)\n",
    "type(b_string)"
   ]
  },
  {
   "cell_type": "code",
   "execution_count": null,
   "metadata": {},
   "outputs": [],
   "source": [
    "#Example of a complex number\n",
    "z=2+3j"
   ]
  },
  {
   "cell_type": "code",
   "execution_count": null,
   "metadata": {},
   "outputs": [],
   "source": [
    "#Extracting the real and imaginary part\n",
    "print(z.real)\n",
    "print(z)\n",
    "z.conjugate()"
   ]
  },
  {
   "cell_type": "markdown",
   "metadata": {},
   "source": [
    "## Strings"
   ]
  },
  {
   "cell_type": "code",
   "execution_count": null,
   "metadata": {},
   "outputs": [],
   "source": [
    "#Create a string\n",
    "# Single and Double quotes are the same \n",
    "\n",
    "str_1 = 'ABInBev'  # single quotes\n",
    "str_2 = \"ABInBev\"  # double quotes\n",
    "\n",
    "print(str_1)\n",
    "print(str_2)\n",
    "\n",
    "'doesn\\'t'  # use \\' to escape the single quote...\n",
    "\n",
    "\"doesn't\"  # ...or use double quotes instead (to enclose single quotes)"
   ]
  },
  {
   "cell_type": "code",
   "execution_count": null,
   "metadata": {},
   "outputs": [],
   "source": [
    "# Strings can be concatenated with + \n",
    "\n",
    "3 * 'Ops' + 'Analytics'"
   ]
  },
  {
   "cell_type": "code",
   "execution_count": null,
   "metadata": {},
   "outputs": [],
   "source": [
    "# Strings can be indexed\n",
    "# Remember, Python indexes start from 0\n",
    "\n",
    "word = 'AB-InBev'\n",
    "word[0]  # character in position 0\n",
    "\n",
    "word[4]  # character in position 4"
   ]
  },
  {
   "cell_type": "code",
   "execution_count": null,
   "metadata": {},
   "outputs": [],
   "source": [
    "# Negative indices also work\n",
    "\n",
    "word[-1]  # last character\n",
    "\n",
    "word[-2]  # second-last character\n",
    "\n",
    "word[-6]"
   ]
  },
  {
   "cell_type": "code",
   "execution_count": null,
   "metadata": {},
   "outputs": [],
   "source": [
    "# Slicing allows you to obtain substrings\n",
    "# word = 'Python'\n",
    "\n",
    "word[0:2]  # characters from position 0 (included) to 2 (excluded)\n",
    "\n",
    "word[2:5]  # characters from position 2 (included) to 5 (excluded)"
   ]
  },
  {
   "cell_type": "code",
   "execution_count": null,
   "metadata": {},
   "outputs": [],
   "source": [
    "# s[:i] + s[i:] is always equal to s\n",
    "\n",
    "word[:2] + word[2:]\n",
    "\n",
    "word[:4] + word[4:]"
   ]
  },
  {
   "cell_type": "code",
   "execution_count": null,
   "metadata": {},
   "outputs": [],
   "source": [
    "# Python strings are immutable. Cannot be changed\n",
    "\n",
    "word[2]=' '\n",
    "\n",
    "word[3:] = 'AmBev'"
   ]
  },
  {
   "cell_type": "code",
   "execution_count": null,
   "metadata": {},
   "outputs": [],
   "source": [
    "# Can create new strings though\n",
    "\n",
    "'B' + word[1:]\n",
    "\n",
    "word[:3] + 'AmBev'"
   ]
  },
  {
   "cell_type": "code",
   "execution_count": null,
   "metadata": {},
   "outputs": [],
   "source": [
    "# len() returns length of string \n",
    "\n",
    "s = 'Anheuser-Busch InBev'\n",
    "len(s)"
   ]
  },
  {
   "cell_type": "markdown",
   "metadata": {},
   "source": [
    "### Printing"
   ]
  },
  {
   "cell_type": "code",
   "execution_count": null,
   "metadata": {},
   "outputs": [],
   "source": [
    "x = 'hello'\n",
    "\n",
    "print(x)"
   ]
  },
  {
   "cell_type": "code",
   "execution_count": null,
   "metadata": {},
   "outputs": [],
   "source": [
    "num = 12\n",
    "name = 'John'\n",
    "\n",
    "print('My number is: {}, and my name is: {}'.format(num,name))\n",
    "print('My number is: {one}, and my name is: {two}'.format(one=num,two=name))"
   ]
  },
  {
   "cell_type": "markdown",
   "metadata": {},
   "source": [
    "### Exercises"
   ]
  },
  {
   "cell_type": "code",
   "execution_count": null,
   "metadata": {},
   "outputs": [],
   "source": [
    "#Using the given string, return\n",
    "#1. length of the string\n",
    "#2. the count of  spaces in the string\n",
    "#3. index where a substring - \"ABI\" is matched (where the match ends)\n",
    "#4. convert the entire string to Lowercase\n",
    "#5. replace ABI with AB InBev.\n",
    "#6. change the cases of all the alphabets in string i.e., make all capitalized letters into small case and capitalize all small \n",
    "#   case letters\n",
    "#7. Find the index of the first and last occurrence of \"-\"\n",
    "#8. Using .format, print your first name at the beginning and end of the string\n",
    "\n",
    "string = \" - ABI - We're Here For The Beer - \"\n"
   ]
  },
  {
   "cell_type": "markdown",
   "metadata": {},
   "source": [
    "### Lists \n",
    "\n",
    "A list is a collection which is ordered and changeable. In Python lists are written with square brackets.\n",
    "\n",
    "`list.append(x)`\n",
    "Add an item to the end of the list. Equivalent to `a[len(a):] = [x]`.\n",
    "\n",
    "`list.extend(iterable)`\n",
    "Extend the list by appending all the items from the iterable. Equivalent to a[len(a):] = iterable.\n",
    "\n",
    "`list.insert(i, x)`\n",
    "Insert an item at a given position. The first argument is the index of the element before which to insert, so a.insert(0, x) inserts at the front of the list, and a.insert(len(a), x) is equivalent to a.append(x).\n",
    "\n",
    "`list.remove(x)`\n",
    "Remove the first item from the list whose value is x. It is an error if there is no such item.\n",
    "\n",
    "`list.pop([i])`\n",
    "Remove the item at the given position in the list, and return it. If no index is specified, a.pop() removes and returns the last item in the list. (The square brackets around the i in the method signature denote that the parameter is optional, not that you should type square brackets at that position. You will see this notation frequently in the Python Library Reference.)\n",
    "\n",
    "`list.clear()`\n",
    "Remove all items from the list. Equivalent to del a[:].\n",
    "\n",
    "`list.index(x[, start[, end]])`\n",
    "Return zero-based index in the list of the first item whose value is x. Raises a ValueError if there is no such item.\n",
    "\n",
    "The optional arguments start and end are interpreted as in the slice notation and are used to limit the search to a particular subsequence of the list. The returned index is computed relative to the beginning of the full sequence rather than the start argument.\n",
    "\n",
    "`list.count(x)`\n",
    "Return the number of times x appears in the list.\n",
    "\n",
    "`list.sort(key=None, reverse=False)`\n",
    "Sort the items of the list in place (the arguments can be used for sort customization, see sorted() for their explanation).\n",
    "\n",
    "`list.reverse()`\n",
    "Reverse the elements of the list in place.\n",
    "\n",
    "`list.copy()`\n",
    "Return a shallow copy of the list. Equivalent to a[:].\n",
    "\n"
   ]
  },
  {
   "cell_type": "code",
   "execution_count": null,
   "metadata": {},
   "outputs": [],
   "source": [
    "#Create a list\n",
    "brand=['budweiser','corona','becks','hoegaarden','leffe']\n",
    "\n",
    "#Count the occurances of 'motor'\n",
    "brand.count('becks')\n",
    "\n",
    "#Append 'marine' to the list\n",
    "brand.append('corona')\n",
    "\n",
    "#Return index\n",
    "print(brand.index('hoegaarden'))\n",
    "\n",
    "print(brand)"
   ]
  },
  {
   "cell_type": "code",
   "execution_count": null,
   "metadata": {},
   "outputs": [],
   "source": [
    "# Lists are mutable - Can be changed \n",
    "# Slicing a list results in new lists \n",
    "\n",
    "squares = [1, 4, 9, 16, 25]\n",
    "squares.append(35)\n",
    "print(squares)\n",
    "squares[5] = 36\n",
    "squares[-3:] "
   ]
  },
  {
   "cell_type": "code",
   "execution_count": null,
   "metadata": {},
   "outputs": [],
   "source": [
    "# Assignment to slices is also possible \n",
    "\n",
    "letters = ['a', 'b', 'c', 'd', 'e', 'f', 'g']\n",
    "letters\n",
    "\n",
    "# replace some values\n",
    "letters[2:5] = ['C', 'D', 'E']\n",
    "letters\n",
    "\n",
    "# now remove them\n",
    "letters[2:5] = []\n",
    "letters\n",
    "\n",
    "# clear the list by replacing all the elements with an empty list\n",
    "letters[:] = []\n",
    "letters"
   ]
  },
  {
   "cell_type": "code",
   "execution_count": null,
   "metadata": {},
   "outputs": [],
   "source": [
    "# Nested lists can be created\n",
    "\n",
    "a = ['a', 'b', 'c']\n",
    "n = [1, 2, 3]\n",
    "\n",
    "x = [a, n]\n",
    "\n",
    "print(x)\n",
    "print(x[0])\n",
    "\n",
    "print(x[0][1])\n",
    "print(x[1][2])\n",
    "\n",
    "y = a\n",
    "y.extend(n)\n",
    "\n",
    "print(y)"
   ]
  },
  {
   "cell_type": "code",
   "execution_count": null,
   "metadata": {},
   "outputs": [],
   "source": [
    "#Using the brand list, try out the following\n",
    "\n",
    "#1. add the string 'brahma' at end of the item-'becks'\n",
    "#2. reverse and sort the list\n",
    "#3. return the position / index of the second occurrence of \"corona\" without hard-coding the position of the first\n",
    "#4. remove the last element from the list and display it as an output\n",
    "#5. remove the first element from the list and display it as an output"
   ]
  },
  {
   "cell_type": "markdown",
   "metadata": {},
   "source": [
    "### Tuples \n",
    "\n",
    "* Tuples are sequence data types like lists\n",
    "* They are immutable \n",
    "* They just consists of values separated by commas\n",
    "* Whereas a list (usually) consists of homogenous data type elements, tuples are (usually) used to store heterogenous data types "
   ]
  },
  {
   "cell_type": "code",
   "execution_count": null,
   "metadata": {},
   "outputs": [],
   "source": [
    "t = 12345, 54321, 'hello!'\n",
    "t[0]\n",
    "\n",
    "t\n",
    "\n",
    "# Tuples may be nested:\n",
    "u = t, (1, 2, 3, 4, 5)\n",
    "u\n",
    "\n",
    "# Tuples are immutable:\n",
    "#t[0] = 88888\n",
    "\n",
    "# but they can contain mutable objects:\n",
    "v = ([1, 2, 3], [3, 2, 1])\n",
    "v = [(1, 2, 3), (3, 2, 1)]\n",
    "v[0][1]"
   ]
  },
  {
   "cell_type": "code",
   "execution_count": null,
   "metadata": {},
   "outputs": [],
   "source": [
    "# Can a tuple be sorted?\n",
    "tup = (3, 6, 8, 2, 78, 1, 23, 45, 9)\n",
    "type(tup)\n",
    "sorted(tup)\n",
    "tup\n",
    "tup = sorted(tup)\n",
    "tup\n",
    "type(tup)"
   ]
  },
  {
   "cell_type": "markdown",
   "metadata": {},
   "source": [
    "### Dictionaries \n",
    "\n",
    "* Unlike lists that are indexed by integers, dictionaires are indexed using keys\n",
    "* Keys can be any immutable data type. Strings and numbers are good keys\n",
    "* Dictionaries can be thought of as an unordered set of key:value pairs\n",
    "* Primary purpose of a dictionary is to extract value corresponding to a key and storing the value of a key\n",
    "\n",
    "Let us look at some of the functions that work on a dictionary"
   ]
  },
  {
   "cell_type": "code",
   "execution_count": null,
   "metadata": {},
   "outputs": [],
   "source": [
    "tel = {'jack': 4098, 'sape': 4139}\n",
    "tel['guido'] = 4127\n",
    "tel\n",
    "\n",
    "tel['jack']\n",
    "\n",
    "del tel['sape']\n",
    "tel['irv'] = 4127\n",
    "tel\n",
    "\n",
    "list(tel.keys())\n",
    "\n",
    "sorted(tel.keys())\n",
    "\n",
    "'guido' in tel\n",
    "\n",
    "'jack' in tel"
   ]
  },
  {
   "cell_type": "code",
   "execution_count": null,
   "metadata": {},
   "outputs": [],
   "source": [
    "# dict() constructor can be used to create dictionaries \n",
    "\n",
    "dict([('sape', [1,2]), ('guido', 4127), ('jack', 4098)])\n",
    "a=dict(sape=[0,9,9], guido=4127, jack=4098)\n"
   ]
  },
  {
   "cell_type": "code",
   "execution_count": null,
   "metadata": {},
   "outputs": [],
   "source": [
    "#Below is the dictionary which maps english words with their German equivalents\n",
    "German ={\"Pen\":\"Kuli\",\"Pencil\":\"Bleistift\" , \"Glue\":\"Klebstift\",\"Calculator\":\"Taschenrechner\",\"Sharpener\":\"Spitzer\",\"Scissors\":\"Schere\",\"Cassette\":\"Kassette\"}\n",
    "#Remember dictionary requires a curly bracket, this comes from the concept of key-value pairs which are used in JSON formats as well\n",
    "\n",
    "#Write a code to:\n",
    "#1. Extract all the keys\n",
    "#2. Get the German equivalent of 'Glue'\n",
    "#3. Create a new dictionary - (\"Ruler\":\"Lineal\",\"Book\":\"Buch\",\"Dictionary\":\"Worterbuch\"),\n",
    "#   Using this update the German dictionary\n",
    "\n",
    "print(German)\n"
   ]
  },
  {
   "cell_type": "markdown",
   "metadata": {},
   "source": [
    "### Sets\n",
    "* A set is a collection of unique elements"
   ]
  },
  {
   "cell_type": "code",
   "execution_count": null,
   "metadata": {},
   "outputs": [],
   "source": [
    " s= {1,2,3}\n",
    "type(s)\n",
    "s"
   ]
  },
  {
   "cell_type": "code",
   "execution_count": null,
   "metadata": {},
   "outputs": [],
   "source": [
    "{1,2,3,1,2,1,2,3,3,3,3,2,2,2,1,1,2}"
   ]
  },
  {
   "cell_type": "code",
   "execution_count": null,
   "metadata": {},
   "outputs": [],
   "source": [
    "set([1,1,1,2,2,2,3,3,3,4,4,5]) # The unique elements of a list can be obtained by passing the list to the set function"
   ]
  },
  {
   "cell_type": "code",
   "execution_count": null,
   "metadata": {},
   "outputs": [],
   "source": [
    "print(s)\n",
    "s.add(4) # Items can be added to a set by calling the add method on the set\n",
    "print(s)"
   ]
  },
  {
   "cell_type": "markdown",
   "metadata": {},
   "source": [
    "To summarise, there are four **collection data types** in the Python programming language:\n",
    "\n",
    "- **List** is a collection which is ordered and changeable. Allows duplicate members.\n",
    "- **Tuple** is a collection which is ordered and unchangeable. Allows duplicate members.\n",
    "- **Dictionary** is a collection which is unordered, changeable and indexed. No duplicate members.\n",
    "- **Se**t is a collection which is unordered and unindexed. No duplicate members.\n"
   ]
  },
  {
   "cell_type": "markdown",
   "metadata": {},
   "source": [
    "### Functions"
   ]
  },
  {
   "cell_type": "code",
   "execution_count": null,
   "metadata": {},
   "outputs": [],
   "source": [
    "# Functions are defined with the keyword def\n",
    "def my_func(name,sec_name):\n",
    "    print('Hello',name,sec_name)"
   ]
  },
  {
   "cell_type": "code",
   "execution_count": null,
   "metadata": {},
   "outputs": [],
   "source": [
    "my_func(sec_name='John',name='Doe')"
   ]
  },
  {
   "cell_type": "code",
   "execution_count": null,
   "metadata": {},
   "outputs": [],
   "source": [
    "# If you want a default value for the parameter, you can use the following syntax\n",
    "def my_func(name='Default Name'):\n",
    "    print('Hello ' +name)"
   ]
  },
  {
   "cell_type": "code",
   "execution_count": null,
   "metadata": {},
   "outputs": [],
   "source": [
    "# Now if you do not pass any parameter, you would get the default value as an output\n",
    "my_func()\n",
    "my_func('John')"
   ]
  },
  {
   "cell_type": "code",
   "execution_count": null,
   "metadata": {},
   "outputs": [],
   "source": [
    "# Functions to return a value\n",
    "# Functions can have documentation strings. These can be added by putting a set of triple enclosing quotes \n",
    "def square(num):\n",
    "    \"\"\"\n",
    "    This is a docstring.\n",
    "    It can go over multiple lines.\n",
    "    This function squares a number.\n",
    "    \"\"\"\n",
    "    return num**2"
   ]
  },
  {
   "cell_type": "code",
   "execution_count": null,
   "metadata": {},
   "outputs": [],
   "source": [
    "output = square(3)\n",
    "output"
   ]
  },
  {
   "cell_type": "markdown",
   "metadata": {},
   "source": [
    "### Map function\n",
    "* The map function lets you apply a function to every element of a list"
   ]
  },
  {
   "cell_type": "code",
   "execution_count": null,
   "metadata": {},
   "outputs": [],
   "source": [
    "def times2(var):\n",
    "    return var*2"
   ]
  },
  {
   "cell_type": "code",
   "execution_count": null,
   "metadata": {},
   "outputs": [],
   "source": [
    "times2(5)"
   ]
  },
  {
   "cell_type": "code",
   "execution_count": null,
   "metadata": {},
   "outputs": [],
   "source": [
    "seq = [1,2,3,4,5]"
   ]
  },
  {
   "cell_type": "code",
   "execution_count": null,
   "metadata": {},
   "outputs": [],
   "source": [
    "# You could call the function in a for loop and append the results to a list or use the map function. The map function\n",
    "# let's you pass a function and the sequence you want to map that function to.\n",
    "\n",
    "list(map(times2,seq))\n"
   ]
  },
  {
   "cell_type": "markdown",
   "metadata": {},
   "source": [
    "### Lambda expression\n",
    "* In Python, an anonymous function is a function that is defined without a name. \n",
    "* While normal functions are defined using the def keyword, in Python anonymous functions are defined using the lambda keyword. \n",
    "* Hence, anonymous functions are also called lambda functions.\n",
    "* It essentially gets rid of the obvious parts of defining, naming and returning."
   ]
  },
  {
   "cell_type": "code",
   "execution_count": null,
   "metadata": {},
   "outputs": [],
   "source": [
    "# The above function can be written in a single line as follow:\n",
    "def times2(var):return var*2"
   ]
  },
  {
   "cell_type": "code",
   "execution_count": null,
   "metadata": {},
   "outputs": [],
   "source": [
    "# The keyword lambda replaces the keyword def and the name of the function and the return parameter directly follows\n",
    "# the colon. Hence, the above function can be written as follows:\n",
    "\n",
    "lambda var:var*2\n",
    "\n",
    "t = lambda var:var*2\n",
    "t(6)"
   ]
  },
  {
   "cell_type": "code",
   "execution_count": null,
   "metadata": {},
   "outputs": [],
   "source": [
    "# The lambda function is generally used like this:\n",
    "list(map(lambda var:var*2,seq))"
   ]
  },
  {
   "cell_type": "code",
   "execution_count": null,
   "metadata": {},
   "outputs": [],
   "source": [
    "# Try out\n",
    "# Using range & map functions and a lambda expression, return a list that has the squares of all the numbers \n",
    "# from 1 to 10"
   ]
  },
  {
   "cell_type": "markdown",
   "metadata": {},
   "source": [
    "### Filter function\n",
    "* It has a very similar structure to map but instead of mapping a function to every element of a sequence, it filters out elements from a sequence.\n",
    "* To filter, a function or a lambda function is passed which returns a boolean value."
   ]
  },
  {
   "cell_type": "code",
   "execution_count": null,
   "metadata": {},
   "outputs": [],
   "source": [
    "list(filter(lambda num:num%2 == 0,seq))"
   ]
  },
  {
   "cell_type": "code",
   "execution_count": null,
   "metadata": {},
   "outputs": [],
   "source": [
    "# Try out\n",
    "# Using range & filter functions and a lambda expression, return a list containing the multiples of 3 from 3 to 30."
   ]
  },
  {
   "cell_type": "markdown",
   "metadata": {},
   "source": [
    "### Methods\n",
    "* Methods are calls you can make of an object that will affect the object and return a result."
   ]
  },
  {
   "cell_type": "code",
   "execution_count": null,
   "metadata": {},
   "outputs": [],
   "source": [
    "# Some important string methods\n",
    "\n",
    "s = 'Hello my name is Sam'\n",
    "\n",
    "s.lower() # Will convert every alphabet in a string to lowercase\n",
    "s.upper() # Will convert every alphabet in a string to uppercase\n",
    "\n",
    "s.split() # By default, it will split the string from the whitespaces in the string.\n",
    "\n",
    "tweet = 'Go Liverpool! #Liverpool'\n",
    "tweet.split('#')"
   ]
  },
  {
   "cell_type": "code",
   "execution_count": null,
   "metadata": {},
   "outputs": [],
   "source": [
    "x=['a','b']\n",
    "'|'.join(x)"
   ]
  },
  {
   "cell_type": "code",
   "execution_count": null,
   "metadata": {},
   "outputs": [],
   "source": [
    "# Some useful dictionary metods\n",
    "\n",
    "d = {'k1':1,'k2':2}\n",
    "\n",
    "d.keys() # Returns the keys of the dictionary\n",
    "d.items() # Returns the dictionary items\n",
    "d.values() # Returns the values"
   ]
  }
 ],
 "metadata": {
  "kernelspec": {
   "display_name": "Python 3",
   "language": "python",
   "name": "python3"
  },
  "language_info": {
   "codemirror_mode": {
    "name": "ipython",
    "version": 3
   },
   "file_extension": ".py",
   "mimetype": "text/x-python",
   "name": "python",
   "nbconvert_exporter": "python",
   "pygments_lexer": "ipython3",
   "version": "3.6.5"
  }
 },
 "nbformat": 4,
 "nbformat_minor": 2
}
